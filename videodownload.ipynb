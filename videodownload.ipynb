{
 "cells": [
  {
   "cell_type": "code",
   "execution_count": 1,
   "metadata": {},
   "outputs": [
    {
     "name": "stdout",
     "output_type": "stream",
     "text": [
      "Collecting pytube"
     ]
    },
    {
     "name": "stderr",
     "output_type": "stream",
     "text": [
      "WARNING: You are using pip version 20.2.2; however, version 21.0 is available.\n",
      "You should consider upgrading via the 'c:\\python3.7.4\\python37.exe -m pip install --upgrade pip' command.\n"
     ]
    },
    {
     "name": "stdout",
     "output_type": "stream",
     "text": [
      "\n",
      "  Downloading pytube-10.4.1-py3-none-any.whl (42 kB)\n",
      "Requirement already satisfied: typing-extensions in c:\\python3.7.4\\lib\\site-packages (from pytube) (3.7.4.3)\n",
      "Installing collected packages: pytube\n",
      "Successfully installed pytube-10.4.1\n"
     ]
    }
   ],
   "source": [
    "!pip install pytube"
   ]
  },
  {
   "cell_type": "code",
   "execution_count": 198,
   "metadata": {},
   "outputs": [],
   "source": [
    "from pytube import YouTube\n",
    "import pandas as pd\n",
    "import re\n",
    "import sys\n",
    "import glob\n",
    "import os\n",
    "\n",
    "BYTE_TO_MEGABYTE_COEFFICIET = 1048576 # 1024 * 1024"
   ]
  },
  {
   "cell_type": "code",
   "execution_count": 199,
   "metadata": {},
   "outputs": [],
   "source": [
    "# Чтение файла со списком видео\n",
    "df = pd.read_csv('youtube.csv')"
   ]
  },
  {
   "cell_type": "code",
   "execution_count": 205,
   "metadata": {},
   "outputs": [
    {
     "name": "stdout",
     "output_type": "stream",
     "text": [
      "Wall time: 12.3 s\n"
     ]
    }
   ],
   "source": [
    "%%time\n",
    "df_out = pd.DataFrame(columns=['name', 'fps', 'weight_mb', 'resolution', 'url'])\n",
    "\n",
    "for i in range(df.shape[0]):\n",
    "    # Инициализируем экземляр YouTube\n",
    "    yt = YouTube(df.url[i])\n",
    "    \n",
    "    # Выбираем файл для загрузки\n",
    "    stream = yt.streams.first()\n",
    "    \n",
    "    # Получаем fps\n",
    "    fps = stream.fps\n",
    "    # Парсим строку, чтобы узнать разрешение видео\n",
    "    #stream_str = str(stream)\n",
    "    #re.findall(r\"res=..+?\\\"\", stream_str)[0][5:-1]\n",
    "    res = stream.resolution\n",
    "    # Загружаем видео\n",
    "    video = yt.streams.first().download()\n",
    "    # Находим последний загруженный файл и узнаем его имя\n",
    "    list_of_files = glob.glob('*.mp4') # после * укажите нужный формат видео\n",
    "    latest_file = max(list_of_files, key=os.path.getctime)\n",
    "    # Считываем вес файла\n",
    "    statinfo = os.stat(latest_file)\n",
    "    # Узнаем вес в байтах, Переводим в MB\n",
    "    weight_mb = statinfo.st_size / BYTE_TO_MEGABYTE_COEFFICIET\n",
    "    #print(statinfo.st_size, \"байт\")\n",
    "    #print(weightmb, \"мегабайт\")\n",
    "    row=['name', 'fps', 'weight_mb', 'resolution', 'url']\n",
    "    df_out_to = pd.DataFrame([[latest_file, fps, weight_mb, res, df.url[i]]], columns=row)\n",
    "    df_out = df_out.append(df_out_to, ignore_index=True)"
   ]
  },
  {
   "cell_type": "code",
   "execution_count": 201,
   "metadata": {},
   "outputs": [
    {
     "data": {
      "text/html": [
       "<div>\n",
       "<style scoped>\n",
       "    .dataframe tbody tr th:only-of-type {\n",
       "        vertical-align: middle;\n",
       "    }\n",
       "\n",
       "    .dataframe tbody tr th {\n",
       "        vertical-align: top;\n",
       "    }\n",
       "\n",
       "    .dataframe thead th {\n",
       "        text-align: right;\n",
       "    }\n",
       "</style>\n",
       "<table border=\"1\" class=\"dataframe\">\n",
       "  <thead>\n",
       "    <tr style=\"text-align: right;\">\n",
       "      <th></th>\n",
       "      <th>name</th>\n",
       "      <th>fps</th>\n",
       "      <th>weight_mb</th>\n",
       "      <th>resolution</th>\n",
       "      <th>url</th>\n",
       "    </tr>\n",
       "  </thead>\n",
       "  <tbody>\n",
       "    <tr>\n",
       "      <th>0</th>\n",
       "      <td>«Умная дорога» и беспилотники как ЦКАД обеспеч...</td>\n",
       "      <td>30</td>\n",
       "      <td>20.728289</td>\n",
       "      <td>360p</td>\n",
       "      <td>https://www.youtube.com/watch?v=Z8ROlRch6aM&amp;fe...</td>\n",
       "    </tr>\n",
       "    <tr>\n",
       "      <th>1</th>\n",
       "      <td>В Подмосковье открыли движение по самому длинн...</td>\n",
       "      <td>30</td>\n",
       "      <td>19.106423</td>\n",
       "      <td>360p</td>\n",
       "      <td>https://www.youtube.com/watch?v=A1WRc6R0OBM&amp;ab...</td>\n",
       "    </tr>\n",
       "  </tbody>\n",
       "</table>\n",
       "</div>"
      ],
      "text/plain": [
       "                                                name fps  weight_mb  \\\n",
       "0  «Умная дорога» и беспилотники как ЦКАД обеспеч...  30  20.728289   \n",
       "1  В Подмосковье открыли движение по самому длинн...  30  19.106423   \n",
       "\n",
       "  resolution                                                url  \n",
       "0       360p  https://www.youtube.com/watch?v=Z8ROlRch6aM&fe...  \n",
       "1       360p  https://www.youtube.com/watch?v=A1WRc6R0OBM&ab...  "
      ]
     },
     "execution_count": 201,
     "metadata": {},
     "output_type": "execute_result"
    }
   ],
   "source": [
    "#Проверяем полученный DataFrame\n",
    "df_out"
   ]
  },
  {
   "cell_type": "code",
   "execution_count": 202,
   "metadata": {},
   "outputs": [],
   "source": [
    "#Записываем информацию о видео в csv\n",
    "df_out.to_csv('youtubeout.csv')"
   ]
  },
  {
   "cell_type": "code",
   "execution_count": 203,
   "metadata": {},
   "outputs": [],
   "source": [
    "#Проверяем\n",
    "df_out_in = pd.read_csv('youtubeout.csv')"
   ]
  },
  {
   "cell_type": "code",
   "execution_count": null,
   "metadata": {
    "pycharm": {
     "name": "#%%\n"
    }
   },
   "outputs": [],
   "source": [
    "df_out_in"
   ]
  }
 ],
 "metadata": {
  "kernelspec": {
   "display_name": "Python 3",
   "language": "python",
   "name": "python3"
  },
  "language_info": {
   "codemirror_mode": {
    "name": "ipython",
    "version": 3
   },
   "file_extension": ".py",
   "mimetype": "text/x-python",
   "name": "python",
   "nbconvert_exporter": "python",
   "pygments_lexer": "ipython3",
   "version": "3.7.4"
  }
 },
 "nbformat": 4,
 "nbformat_minor": 4
}