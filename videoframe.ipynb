{
 "cells": [
  {
   "cell_type": "code",
   "execution_count": 58,
   "metadata": {},
   "outputs": [],
   "source": [
    "import cv2\n",
    "from pytube import YouTube\n",
    "import pandas as pd\n",
    "import re\n",
    "import sys\n",
    "import glob\n",
    "import os"
   ]
  },
  {
   "cell_type": "code",
   "execution_count": 62,
   "metadata": {},
   "outputs": [],
   "source": [
    "def transliterate(name):\n",
    "   # Слоаврь с заменами\n",
    "   slovar = {'а':'a','б':'b','в':'v','г':'g','д':'d','е':'e','ё':'yo',\n",
    "      'ж':'zh','з':'z','и':'i','й':'i','к':'k','л':'l','м':'m','н':'n',\n",
    "      'о':'o','п':'p','р':'r','с':'s','т':'t','у':'u','ф':'f','х':'h',\n",
    "      'ц':'c','ч':'ch','ш':'sh','щ':'sch','ъ':'','ы':'y','ь':'','э':'e',\n",
    "      'ю':'u','я':'ya', 'А':'A','Б':'B','В':'V','Г':'G','Д':'D','Е':'E','Ё':'YO',\n",
    "      'Ж':'ZH','З':'Z','И':'I','Й':'I','К':'K','Л':'L','М':'M','Н':'N',\n",
    "      'О':'O','П':'P','Р':'R','С':'S','Т':'T','У':'U','Ф':'F','Х':'H',\n",
    "      'Ц':'C','Ч':'CH','Ш':'SH','Щ':'SCH','Ъ':'','Ы':'y','Ь':'','Э':'E',\n",
    "      'Ю':'U','Я':'YA',',':'','?':'',' ':'_','~':'','!':'','@':'','#':'',\n",
    "      '$':'','%':'','^':'','&':'','*':'','(':'',')':'','-':'','=':'','+':'',\n",
    "      ':':'',';':'','<':'','>':'','\\'':'','\"':'','\\\\':'','/':'','№':'',\n",
    "      '[':'',']':'','{':'','}':'','ґ':'','ї':'', 'є':'','Ґ':'g','Ї':'i',\n",
    "      'Є':'e', '—':''}\n",
    "        \n",
    "   # Циклически заменяем все буквы в строке\n",
    "   for key in slovar:\n",
    "      name = name.replace(key, slovar[key])\n",
    "   return name"
   ]
  },
  {
   "cell_type": "code",
   "execution_count": null,
   "metadata": {},
   "outputs": [],
   "source": [
    "video = '«Умная дорога» и беспилотники как ЦКАД обеспечит комфортную жизнь людям.mp4'"
   ]
  },
  {
   "cell_type": "code",
   "execution_count": null,
   "metadata": {},
   "outputs": [],
   "source": [
    "# Создание папки\n",
    "\n",
    "# транслитерация и удаление лишних символов\n",
    "folder_name = transliterate(video[:-4])\n",
    "folder_name = re.sub(r'[^\\s\\w]', '', folder_name)\n",
    "\n",
    "os.mkdir(folder_name)"
   ]
  },
  {
   "cell_type": "code",
   "execution_count": 65,
   "metadata": {},
   "outputs": [
    {
     "name": "stdout",
     "output_type": "stream",
     "text": [
      "Wall time: 10.3 s\n"
     ]
    }
   ],
   "source": [
    "%%time\n",
    "\n",
    "vidcap = cv2.VideoCapture(video)\n",
    "success,image = vidcap.read()\n",
    "# Изначальное количество fps указанное вручную\n",
    "video_fps = 30\n",
    "# Либо полученное из файла youtubeout.csv\n",
    "#df_out_in = pd.read_csv('youtubeout.csv')\n",
    "#video_fps = df_out_in.fps[(df_out_in['name'] == video)]\n",
    "#print(video_fps)\n",
    "\n",
    "# Указать необходимый FPS для дробления видео на кадры\n",
    "frame_fps = 1\n",
    "\n",
    "fps_coefficient = video_fps / frame_fps\n",
    "\n",
    "count = 0\n",
    "frame = 0\n",
    "success = True\n",
    "while success:\n",
    "    if frame % fps_coefficient == 0:\n",
    "        cv2.imwrite(folder_name + \"/frame%d.jpg\" % count, image) \n",
    "        count += 1\n",
    "    success,image = vidcap.read()\n",
    "    frame += 1"
   ]
  },
  {
   "cell_type": "code",
   "execution_count": null,
   "outputs": [],
   "source": [
    "vidcap.release()\n",
    "cv2.destroyAllWindows()"
   ],
   "metadata": {
    "collapsed": false,
    "pycharm": {
     "name": "#%%\n"
    }
   }
  },
  {
   "cell_type": "code",
   "execution_count": 68,
   "metadata": {},
   "outputs": [],
   "source": [
    "vidcap.release()\n",
    "cv2.destroyAllWindows()"
   ]
  }
 ],
 "metadata": {
  "kernelspec": {
   "display_name": "Python 3",
   "language": "python",
   "name": "python3"
  },
  "language_info": {
   "codemirror_mode": {
    "name": "ipython",
    "version": 3
   },
   "file_extension": ".py",
   "mimetype": "text/x-python",
   "name": "python",
   "nbconvert_exporter": "python",
   "pygments_lexer": "ipython3",
   "version": "3.7.4"
  }
 },
 "nbformat": 4,
 "nbformat_minor": 4
}